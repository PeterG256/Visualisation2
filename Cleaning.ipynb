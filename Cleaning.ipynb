{
 "cells": [
  {
   "cell_type": "code",
   "execution_count": 13,
   "id": "81eb7e4e-4f79-452f-8fa8-ce4a0d2b4cc2",
   "metadata": {},
   "outputs": [],
   "source": [
    "import pandas as pd"
   ]
  },
  {
   "cell_type": "code",
   "execution_count": 14,
   "id": "05d8619b-5bb5-4a03-89ca-4e3bbfd516c6",
   "metadata": {
    "tags": []
   },
   "outputs": [],
   "source": [
    "df = pd.read_csv(\"Data/output.csv\")"
   ]
  },
  {
   "cell_type": "code",
   "execution_count": 15,
   "id": "cbd98f11-321e-446a-b8a4-5c7957e50e98",
   "metadata": {
    "tags": []
   },
   "outputs": [],
   "source": [
    "df.drop([0], inplace=True)"
   ]
  },
  {
   "cell_type": "code",
   "execution_count": 16,
   "id": "2d52e76f-9b8c-48e3-9f31-29c4e828220b",
   "metadata": {
    "tags": []
   },
   "outputs": [],
   "source": [
    "df.drop([\" Search Parameters\"], axis=1, inplace=True)"
   ]
  },
  {
   "cell_type": "code",
   "execution_count": 17,
   "id": "e7642bf4-bdab-4004-8e68-3381bdd284e9",
   "metadata": {},
   "outputs": [],
   "source": [
    "type_dict = {\n",
    "    \"Year\" : pd.Int64Dtype(),\n",
    "    \"Mo\" : pd.Int64Dtype(),\n",
    "    \"Dy\" : pd.Int64Dtype(),\n",
    "    \"Elevation (m)\" : int,\n",
    "    \"VEI\" : pd.Int64Dtype(),\n",
    "    \"Deaths\" : pd.Int64Dtype(),\n",
    "    'Death Description' : pd.Int64Dtype(),\n",
    "    'Missing' : pd.Int64Dtype(),\n",
    "    'Missing Description' : pd.Int64Dtype(),\n",
    "    'Injuries' : pd.Int64Dtype(),\n",
    "    'Injuries Description' : pd.Int64Dtype(),\n",
    "    'Damage Description' : pd.Int64Dtype(),\n",
    "    'Houses Destroyed' : pd.Int64Dtype(),\n",
    "    'Houses Destroyed Description' : pd.Int64Dtype(),\n",
    "    'Total Deaths' : pd.Int64Dtype(),\n",
    "    'Total Death Description' : pd.Int64Dtype(),\n",
    "    'Total Missing' : pd.Int64Dtype(),\n",
    "    'Total Missing Description' : pd.Int64Dtype(),\n",
    "    'Total Injuries' : pd.Int64Dtype(),\n",
    "    'Total Injuries Description' : pd.Int64Dtype(),\n",
    "    'Total Damage Description' : pd.Int64Dtype(),\n",
    "    'Total Houses Destroyed' : pd.Int64Dtype(),\n",
    "    'Total Houses Destroyed Description' : pd.Int64Dtype()\n",
    "}"
   ]
  },
  {
   "cell_type": "code",
   "execution_count": 18,
   "id": "1f74df13-4998-46c0-b5e3-3ee271f6e22f",
   "metadata": {},
   "outputs": [],
   "source": [
    "df = df.astype(type_dict)"
   ]
  },
  {
   "cell_type": "code",
   "execution_count": 19,
   "id": "c8615715-12f6-47e6-9159-70a3f94c4f1d",
   "metadata": {},
   "outputs": [],
   "source": [
    "name_dict = {\n",
    "    'Year' : \"Year\",\n",
    "    'Mo' : \"Mo\",\n",
    "    'Dy' : \"Dy\",\n",
    "    'Tsu' : \"Tsu\",\n",
    "    'Eq' : \"Eq\",\n",
    "    'Name' : \"Name\",\n",
    "    'Location': \"Loc\",\n",
    "    'Country' : \"Ctry\",\n",
    "    'Latitude' : \"Lat\",\n",
    "    'Longitude' : \"Lon\",\n",
    "    'Elevation (m)' : \"Ele\",\n",
    "    'Type' : \"Type\",\n",
    "    'VEI' : \"VEI\",\n",
    "    'Agent' : \"Agent\",\n",
    "    'Deaths' : \"Deaths\",\n",
    "    'Death Description' : \"Death_des\",\n",
    "    'Missing' : \"Missing\",\n",
    "    'Missing Description' : \"Missing_des\",\n",
    "    'Injuries' : \"Injuries\",\n",
    "    'Injuries Description' : \"Injuries_des\",\n",
    "    'Damage ($Mil)' : \"Dmg\",\n",
    "    'Damage Description' : \"Dmg_des\",\n",
    "    'Houses Destroyed' : \"Houses\",\n",
    "    'Houses Destroyed Description' : \"Houses_des\",\n",
    "    'Total Deaths' : \"Death_tot\",\n",
    "    'Total Death Description' : \"Death_tot_des\",\n",
    "    'Total Missing' : \"Missing_tot\",\n",
    "    'Total Missing Description' : \"Missing_tot_des\",\n",
    "    'Total Injuries' : \"Injuries_tot\",\n",
    "    'Total Injuries Description' : \"Injuries_tot_des\",\n",
    "    'Total Damage ($Mil)' : \"Dmg_tot\",\n",
    "    'Total Damage Description' : \"Dmg_tot_des\",\n",
    "    'Total Houses Destroyed' : \"Houses_tot\",\n",
    "    'Total Houses Destroyed Description' : \"Houses_tot_des\"\n",
    "}"
   ]
  },
  {
   "cell_type": "code",
   "execution_count": 20,
   "id": "184f679a-86d6-4eb9-b7a6-3477241b17f7",
   "metadata": {
    "tags": []
   },
   "outputs": [],
   "source": [
    "df.rename(columns=name_dict, inplace=True)"
   ]
  },
  {
   "cell_type": "code",
   "execution_count": 21,
   "id": "821a5272-0119-475b-b9f3-814b0332b035",
   "metadata": {},
   "outputs": [],
   "source": [
    "df.to_csv(\"Data/clean.csv\", index=False)"
   ]
  }
 ],
 "metadata": {
  "kernelspec": {
   "display_name": "Python 3 (ipykernel)",
   "language": "python",
   "name": "python3"
  },
  "language_info": {
   "codemirror_mode": {
    "name": "ipython",
    "version": 3
   },
   "file_extension": ".py",
   "mimetype": "text/x-python",
   "name": "python",
   "nbconvert_exporter": "python",
   "pygments_lexer": "ipython3",
   "version": "3.9.12"
  }
 },
 "nbformat": 4,
 "nbformat_minor": 5
}
